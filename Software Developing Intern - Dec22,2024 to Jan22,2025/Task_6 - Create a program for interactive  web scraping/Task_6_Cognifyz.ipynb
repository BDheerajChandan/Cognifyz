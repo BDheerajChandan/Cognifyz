{
 "cells": [
  {
   "cell_type": "code",
   "execution_count": 1,
   "metadata": {},
   "outputs": [
    {
     "data": {
      "text/plain": [
       "'\\nTask 6: Create a program for\\ninteractive web scraping.\\nObjective: Fetch data from a website and\\npresent it in a user-friendly way using a\\nsimple web scraping library.\\nSteps:\\nSelect a website and identify the data to\\nbe scraped.\\n1.\\nUtilize a web scraping library to fetch the\\ndata.\\n2.\\nDesign a user-friendly presentation\\nformat.\\n3.\\n4.Test the program with different websites.\\n'"
      ]
     },
     "execution_count": 1,
     "metadata": {},
     "output_type": "execute_result"
    }
   ],
   "source": [
    "\"\"\"\n",
    "Task 6: Create a program for interactive web scraping.\n",
    "Objective: Fetch data from a website and present it in a user-friendly way using a simple web scraping library.\n",
    "Steps:\n",
    "1. Select a website and identify the data to be scraped.\n",
    "2. Utilize a web scraping library to fetch the data.\n",
    "3. Design a user-friendly presentation format.\n",
    "4. Test the program with different websites.\n",
    "\"\"\""
   ]
  }
 ],
 "metadata": {
  "kernelspec": {
   "display_name": "base",
   "language": "python",
   "name": "python3"
  },
  "language_info": {
   "codemirror_mode": {
    "name": "ipython",
    "version": 3
   },
   "file_extension": ".py",
   "mimetype": "text/x-python",
   "name": "python",
   "nbconvert_exporter": "python",
   "pygments_lexer": "ipython3",
   "version": "3.11.4"
  }
 },
 "nbformat": 4,
 "nbformat_minor": 2
}
