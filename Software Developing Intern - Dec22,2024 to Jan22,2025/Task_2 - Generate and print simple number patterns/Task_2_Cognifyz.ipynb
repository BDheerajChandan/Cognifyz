{
 "cells": [
  {
   "cell_type": "code",
   "execution_count": 1,
   "metadata": {},
   "outputs": [
    {
     "data": {
      "text/plain": [
       "'\\nTask 2: Generate and print simple number patterns.\\nObjective: Utilize loops to control the structure of number patterns.\\nSteps:\\nSelect a number pattern type (e.g., pyramid).\\n1. Develop a program to generate the selected pattern.\\n2. Use loops to control the structure of the pattern.\\n3. Verify the correctness of the generated pattern.\\n'"
      ]
     },
     "execution_count": 1,
     "metadata": {},
     "output_type": "execute_result"
    }
   ],
   "source": [
    "\"\"\"\n",
    "Task 2: Generate and print simple number patterns.\n",
    "Objective: Utilize loops to control the structure of number patterns.\n",
    "Steps:\n",
    "Select a number pattern type (e.g., pyramid).\n",
    "1. Develop a program to generate the selected pattern.\n",
    "2. Use loops to control the structure of the pattern.\n",
    "3. Verify the correctness of the generated pattern.\n",
    "\"\"\""
   ]
  },
  {
   "cell_type": "code",
   "execution_count": 2,
   "metadata": {},
   "outputs": [],
   "source": [
    "# Pyramid (Centered) , \n",
    "# Diamond (Symmetric) , \n",
    "# Right-Angle Triangle (Right Perpendicular), \n",
    "# Right-Angle Triangle (Left Perpendicular)"
   ]
  },
  {
   "cell_type": "code",
   "execution_count": 3,
   "metadata": {},
   "outputs": [
    {
     "name": "stdout",
     "output_type": "stream",
     "text": [
      "Pyramid (Centered)\n",
      "Diamond (Symmetric)\n",
      "Right-Angle Triangle (Right Perpendicular)\n",
      "Right-Angle Triangle (Left Perpendicular)\n"
     ]
    }
   ],
   "source": [
    "# Declare a varable having different pattern names and display them\n",
    "pattern=[\"Pyramid (Centered)\",\"Diamond (Symmetric)\",\"Right-Angle Triangle (Right Perpendicular)\",\"Right-Angle Triangle (Left Perpendicular)\"]\n",
    "for i in pattern:\n",
    "    print(i)"
   ]
  },
  {
   "cell_type": "code",
   "execution_count": 6,
   "metadata": {},
   "outputs": [
    {
     "name": "stdout",
     "output_type": "stream",
     "text": [
      "Entered choise 1 : Pyramid (Centered)\n",
      "        * \n",
      "      * * * \n",
      "    * * * * * \n",
      "  * * * * * * * \n",
      "* * * * * * * * * \n"
     ]
    }
   ],
   "source": [
    "def Pyramid(choise,size):                                  # Declare a function which uses size and choice number of the pattern to be created\n",
    "    print(f\"Entered choise {choise} : Pyramid (Centered)\") # Display the choice and respective pattern\n",
    "    for i in range(size):   \n",
    "        for j in range(size-(i+1)):                        # Loop for spaces before printing *\n",
    "            print(\" \",end=\" \")\n",
    "        for k in range((2*i)+1):\n",
    "            print(\"*\",end=\" \")                             # Loop for * after printing spaces\n",
    "        print()                                            # To go to next line\n",
    "Pyramid(choise=1,size=5)                                    # Set the choice as 1 by default and size number as 5"
   ]
  },
  {
   "cell_type": "code",
   "execution_count": 10,
   "metadata": {},
   "outputs": [
    {
     "name": "stdout",
     "output_type": "stream",
     "text": [
      "Entered choise 2 : Diamond (Symmetric)\n",
      "                  * \n",
      "                * * * \n",
      "              * * * * * \n",
      "            * * * * * * * \n",
      "          * * * * * * * * * \n",
      "        * * * * * * * * * * * \n",
      "      * * * * * * * * * * * * * \n",
      "    * * * * * * * * * * * * * * * \n",
      "  * * * * * * * * * * * * * * * * * \n",
      "* * * * * * * * * * * * * * * * * * * \n",
      "  * * * * * * * * * * * * * * * * * \n",
      "    * * * * * * * * * * * * * * * \n",
      "      * * * * * * * * * * * * * \n",
      "        * * * * * * * * * * * \n",
      "          * * * * * * * * * \n",
      "            * * * * * * * \n",
      "              * * * * * \n",
      "                * * * \n",
      "                  * \n",
      "                    \n"
     ]
    }
   ],
   "source": [
    "def Diamond(choise,size):                                   # Declare a function which uses size and choice number of the pattern to be created\n",
    "    print(f\"Entered choise {choise} : Diamond (Symmetric)\") # Display the choice and respective pattern\n",
    "    for i in range(size):\n",
    "        for j in range(size-(i+1)):\n",
    "            print(\" \",end=\" \")                              # Loop for spaces before printing *\n",
    "        for k in range(2*i+1):\n",
    "            print(\"*\",end=\" \")                              # Loop for * after printing spaces\n",
    "        print()                                             # To go to next line\n",
    "    for i in range(size):\n",
    "        for j in range(i+1):\n",
    "            print(\" \",end=\" \")                              # Loop for spaces before printing *\n",
    "        for k in range((2*(size-i-1))-1):\n",
    "            print(\"*\",end=\" \")                              # Loop for * after printing spaces\n",
    "        print()                                             # To go to next line\n",
    "Diamond(choise=2,size=10)                                    # Set the choice as 2 by default and size numberr as 5"
   ]
  },
  {
   "cell_type": "code",
   "execution_count": 14,
   "metadata": {},
   "outputs": [
    {
     "name": "stdout",
     "output_type": "stream",
     "text": [
      "Entered choise 3 : Right-Angle Triangle (Right Perpendicular)\n",
      "                  * \n",
      "                * * \n",
      "              * * * \n",
      "            * * * * \n",
      "          * * * * * \n",
      "        * * * * * * \n",
      "      * * * * * * * \n",
      "    * * * * * * * * \n",
      "  * * * * * * * * * \n",
      "* * * * * * * * * * \n"
     ]
    }
   ],
   "source": [
    "def Right_AngTrn_RightPrd(choise,size):\n",
    "    print(f\"Entered choise {choise} : Right-Angle Triangle (Right Perpendicular)\")\n",
    "    for i in range(size):\n",
    "        for j in range(size-(i+1)):\n",
    "            print(\" \",end=\" \")              # Loop for spaces before printing *\n",
    "        for k in range(i+1):\n",
    "            print(\"*\",end=\" \")              # Loop for * after printing spaces\n",
    "        print()                             # To go to next line\n",
    "Right_AngTrn_RightPrd(choise=3,size=10)      # Set the choice as 3 by default and size number as 5"
   ]
  },
  {
   "cell_type": "code",
   "execution_count": 17,
   "metadata": {},
   "outputs": [
    {
     "name": "stdout",
     "output_type": "stream",
     "text": [
      "Entered choise 4 : Right-Angle Triangle (Left Perpendicular)\n",
      "* \n",
      "* * \n",
      "* * * \n",
      "* * * * \n",
      "* * * * * \n"
     ]
    }
   ],
   "source": [
    "def Right_AngTrn_LeftPrd(choise,size):\n",
    "    print(f\"Entered choise {choise} : Right-Angle Triangle (Left Perpendicular)\")\n",
    "    for i in range(size):\n",
    "        for j in range(i+1):\n",
    "            print(\"*\",end=\" \")          # Loop for printing * in each line\n",
    "        print()\n",
    "Right_AngTrn_LeftPrd(choise=4,size=5)   # Set the choice as 4 by default and size number as 5"
   ]
  },
  {
   "cell_type": "code",
   "execution_count": 18,
   "metadata": {},
   "outputs": [
    {
     "name": "stdout",
     "output_type": "stream",
     "text": [
      "Press 1 for displaying Pyramid (Centered) pattern\n",
      "Press 2 for displaying Diamond (Symmetric) pattern\n",
      "Press 3 for displaying Right-Angle Triangle (Right Perpendicular) pattern\n",
      "Press 4 for displaying Right-Angle Triangle (Left Perpendicular) pattern\n",
      "************************************************************************************************************************\n",
      "Entered choise 3 : Right-Angle Triangle (Right Perpendicular)\n",
      "        * \n",
      "      * * \n",
      "    * * * \n",
      "  * * * * \n",
      "* * * * * \n",
      "************************************************** PATTERN EXECUTED **************************************************\n"
     ]
    }
   ],
   "source": [
    "c=0                                                         # Dispaly the Choice number for the pattern\n",
    "for i in pattern:\n",
    "    print(f\"Press {c+1} for displaying {i} pattern\")\n",
    "    c=c+1\n",
    "print(\"*\"*120)\n",
    "try:\n",
    "    size=int(input(\"Please Enter the dimension : \"))        # Enter the size number\n",
    "    choise=int(input(\"Please Enter the Choise : \"))         # Enter the choice \n",
    "    if(choise==1):\n",
    "        Pyramid(choise,size)                                # If choice is 1 the Print Pyramid (Centered)\n",
    "    elif(choise==2):\n",
    "        Diamond(choise,size)    \t                        # If choice is 2 the Print Diamond (Symmetric)\n",
    "    elif(choise==3):\n",
    "        Right_AngTrn_RightPrd(choise,size)                  # If choice is 3 the Print Right-Angle Triangle (Right Perpendicular)\n",
    "    elif(choise==4):\n",
    "        Right_AngTrn_LeftPrd(choise,size)                   # If choice is 4 the Print Right-Angle Triangle (Left Perpendicular)\n",
    "    else:\n",
    "        print(\"Wrong Choise entered\")   \n",
    "except ValueError:\n",
    "    print(\"Value error happened\")                           # Display message if Value error happened\n",
    "except TypeError:\n",
    "    print(\"Type error occourd\")                             # Display message if Type error occoured\n",
    "finally:\n",
    "    print(\"*\"*50,\"Pattern Executed\".upper(),\"*\"*50)"
   ]
  },
  {
   "cell_type": "markdown",
   "metadata": {},
   "source": []
  },
  {
   "cell_type": "markdown",
   "metadata": {},
   "source": []
  },
  {
   "cell_type": "code",
   "execution_count": null,
   "metadata": {},
   "outputs": [],
   "source": []
  }
 ],
 "metadata": {
  "kernelspec": {
   "display_name": "base",
   "language": "python",
   "name": "python3"
  },
  "language_info": {
   "codemirror_mode": {
    "name": "ipython",
    "version": 3
   },
   "file_extension": ".py",
   "mimetype": "text/x-python",
   "name": "python",
   "nbconvert_exporter": "python",
   "pygments_lexer": "ipython3",
   "version": "3.11.4"
  }
 },
 "nbformat": 4,
 "nbformat_minor": 2
}
