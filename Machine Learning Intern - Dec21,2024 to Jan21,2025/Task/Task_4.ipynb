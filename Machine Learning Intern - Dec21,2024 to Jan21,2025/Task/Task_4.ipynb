{
 "cells": [
  {
   "cell_type": "code",
   "execution_count": 4,
   "metadata": {},
   "outputs": [
    {
     "data": {
      "text/plain": [
       "'\\nTask: Location-based Analysis\\n\\nObjective: Perform a geographical analysis of the restaurants in the dataset.\\nSteps:\\n1. Explore the latitude and longitude coordinates of the restaurants and visualize their distribution on a map.\\n2. Group the restaurants by city or locality and analyze the concentration of restaurants in different areas.\\n3. Calculate statistics such as the average ratings, cuisines, or price ranges by city or locality.\\n4. Identify any interesting insights or patterns related to the locations of the restaurants.\\n'"
      ]
     },
     "execution_count": 4,
     "metadata": {},
     "output_type": "execute_result"
    }
   ],
   "source": [
    "\"\"\"\n",
    "Task 4 : Location-based Analysis\n",
    "\n",
    "Objective: Perform a geographical analysis of the restaurants in the dataset.\n",
    "Steps:\n",
    "1. Explore the latitude and longitude coordinates of the restaurants and visualize their distribution on a map.\n",
    "2. Group the restaurants by city or locality and analyze the concentration of restaurants in different areas.\n",
    "3. Calculate statistics such as the average ratings, cuisines, or price ranges by city or locality.\n",
    "4. Identify any interesting insights or patterns related to the locations of the restaurants.\n",
    "\"\"\""
   ]
  },
  {
   "cell_type": "code",
   "execution_count": 1,
   "metadata": {},
   "outputs": [
    {
     "data": {
      "text/plain": [
       "['.gitkeep',\n",
       " 'Dataset .csv',\n",
       " 'Machine Learning Internship Task .pdf',\n",
       " 'Task_1.ipynb',\n",
       " 'Task_2.ipynb',\n",
       " 'Task_3.ipynb',\n",
       " 'Task_4.ipynb']"
      ]
     },
     "execution_count": 1,
     "metadata": {},
     "output_type": "execute_result"
    }
   ],
   "source": [
    "import os\n",
    "os.listdir()"
   ]
  },
  {
   "cell_type": "code",
   "execution_count": null,
   "metadata": {},
   "outputs": [],
   "source": []
  }
 ],
 "metadata": {
  "kernelspec": {
   "display_name": "base",
   "language": "python",
   "name": "python3"
  },
  "language_info": {
   "codemirror_mode": {
    "name": "ipython",
    "version": 3
   },
   "file_extension": ".py",
   "mimetype": "text/x-python",
   "name": "python",
   "nbconvert_exporter": "python",
   "pygments_lexer": "ipython3",
   "version": "3.11.4"
  }
 },
 "nbformat": 4,
 "nbformat_minor": 2
}
