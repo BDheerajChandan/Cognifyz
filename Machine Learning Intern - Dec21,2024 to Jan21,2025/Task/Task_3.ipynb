{
 "cells": [
  {
   "cell_type": "code",
   "execution_count": 3,
   "metadata": {},
   "outputs": [
    {
     "data": {
      "text/plain": [
       "\"\\nTask: Cuisine Classification\\nObjective: Develop a machine learning model to classify restaurants based on their cuisines.\\nSteps:\\n1. Preprocess the dataset by handling missing values and encoding categorical variables.\\n2. Split the data into training and testing sets.\\n3. Select a classification algorithm (e.g., logistic regression, random forest) and train it on thetraining data.\\n4. Evaluate the model's performance using appropriate classification metrics (e.g., accuracy,precision, recall) on the testing data.\\n5. Analyze the model's performance across different cuisines and identify any challenges or biases.\\n\""
      ]
     },
     "execution_count": 3,
     "metadata": {},
     "output_type": "execute_result"
    }
   ],
   "source": [
    "\"\"\"\n",
    "Task 3 : Cuisine Classification\n",
    "Objective: Develop a machine learning model to classify restaurants based on their cuisines.\n",
    "Steps:\n",
    "1. Preprocess the dataset by handling missing values and encoding categorical variables.\n",
    "2. Split the data into training and testing sets.\n",
    "3. Select a classification algorithm (e.g., logistic regression, random forest) and train it on thetraining data.\n",
    "4. Evaluate the model's performance using appropriate classification metrics (e.g., accuracy,precision, recall) on the testing data.\n",
    "5. Analyze the model's performance across different cuisines and identify any challenges or biases.\n",
    "\"\"\""
   ]
  },
  {
   "cell_type": "code",
   "execution_count": 1,
   "metadata": {},
   "outputs": [
    {
     "data": {
      "text/plain": [
       "['.gitkeep',\n",
       " 'Dataset .csv',\n",
       " 'Machine Learning Internship Task .pdf',\n",
       " 'Task_1.ipynb',\n",
       " 'Task_2.ipynb',\n",
       " 'Task_3.ipynb',\n",
       " 'Task_4.ipynb']"
      ]
     },
     "execution_count": 1,
     "metadata": {},
     "output_type": "execute_result"
    }
   ],
   "source": [
    "import os\n",
    "os.listdir()"
   ]
  },
  {
   "cell_type": "code",
   "execution_count": null,
   "metadata": {},
   "outputs": [],
   "source": []
  }
 ],
 "metadata": {
  "kernelspec": {
   "display_name": "base",
   "language": "python",
   "name": "python3"
  },
  "language_info": {
   "codemirror_mode": {
    "name": "ipython",
    "version": 3
   },
   "file_extension": ".py",
   "mimetype": "text/x-python",
   "name": "python",
   "nbconvert_exporter": "python",
   "pygments_lexer": "ipython3",
   "version": "3.11.4"
  }
 },
 "nbformat": 4,
 "nbformat_minor": 2
}
