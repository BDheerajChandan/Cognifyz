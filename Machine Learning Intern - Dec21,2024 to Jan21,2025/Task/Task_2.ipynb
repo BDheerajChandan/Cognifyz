{
 "cells": [
  {
   "cell_type": "code",
   "execution_count": 2,
   "metadata": {},
   "outputs": [
    {
     "data": {
      "text/plain": [
       "'\\nTask: Restaurant Recommendation\\nObjective: Create a restaurant recommendation system based on user preferences.\\nSteps:\\n1. Preprocess the dataset by handling missing values and encoding categorical variables.\\n2. Determine the criteria for restaurant recommendations (e.g., cuisine preference, price range).\\n3. Implement a content-based filtering approach where users are recommended restaurants similar to their preferred criteria.\\n4. Test the recommendation system by providing sample user preferences and evaluating the quality of recommendations.\\n\\n'"
      ]
     },
     "execution_count": 2,
     "metadata": {},
     "output_type": "execute_result"
    }
   ],
   "source": [
    "\"\"\"\n",
    "Task: Restaurant Recommendation\n",
    "Objective: Create a restaurant recommendation system based on user preferences.\n",
    "Steps:\n",
    "1. Preprocess the dataset by handling missing values and encoding categorical variables.\n",
    "2. Determine the criteria for restaurant recommendations (e.g., cuisine preference, price range).\n",
    "3. Implement a content-based filtering approach where users are recommended restaurants similar to their preferred criteria.\n",
    "4. Test the recommendation system by providing sample user preferences and evaluating the quality of recommendations.\n",
    "\n",
    "\"\"\""
   ]
  },
  {
   "cell_type": "code",
   "execution_count": 1,
   "metadata": {},
   "outputs": [
    {
     "data": {
      "text/plain": [
       "['.gitkeep',\n",
       " 'Dataset .csv',\n",
       " 'Machine Learning Internship Task .pdf',\n",
       " 'Task_1.ipynb',\n",
       " 'Task_2.ipynb',\n",
       " 'Task_3.ipynb',\n",
       " 'Task_4.ipynb']"
      ]
     },
     "execution_count": 1,
     "metadata": {},
     "output_type": "execute_result"
    }
   ],
   "source": [
    "import os\n",
    "os.listdir()"
   ]
  },
  {
   "cell_type": "code",
   "execution_count": null,
   "metadata": {},
   "outputs": [],
   "source": []
  }
 ],
 "metadata": {
  "kernelspec": {
   "display_name": "base",
   "language": "python",
   "name": "python3"
  },
  "language_info": {
   "codemirror_mode": {
    "name": "ipython",
    "version": 3
   },
   "file_extension": ".py",
   "mimetype": "text/x-python",
   "name": "python",
   "nbconvert_exporter": "python",
   "pygments_lexer": "ipython3",
   "version": "3.11.4"
  }
 },
 "nbformat": 4,
 "nbformat_minor": 2
}
