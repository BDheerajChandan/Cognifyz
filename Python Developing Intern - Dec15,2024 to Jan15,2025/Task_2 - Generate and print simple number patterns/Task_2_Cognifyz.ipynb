{
 "cells": [
  {
   "cell_type": "code",
   "execution_count": 2,
   "metadata": {},
   "outputs": [
    {
     "data": {
      "text/plain": [
       "'\\nTask 2: Generate and print\\nsimple number patterns.\\nObjective: Utilize loops to control the\\nstructure of number patterns.\\nSteps:\\nSelect a number pattern type (e.g.,\\npyramid).\\n1.\\nDevelop a program to generate the\\nselected pattern.\\n2.\\nUse loops to control the structure of the\\npattern.\\n3.\\nVerify the correctness of the generated\\npattern.\\n'"
      ]
     },
     "execution_count": 2,
     "metadata": {},
     "output_type": "execute_result"
    }
   ],
   "source": [
    "\"\"\"\n",
    "Task 2: Generate and print\n",
    "simple number patterns.\n",
    "Objective: Utilize loops to control the\n",
    "structure of number patterns.\n",
    "Steps:\n",
    "Select a number pattern type (e.g.,\n",
    "pyramid).\n",
    "1.\n",
    "Develop a program to generate the\n",
    "selected pattern.\n",
    "2.\n",
    "Use loops to control the structure of the\n",
    "pattern.\n",
    "3.\n",
    "Verify the correctness of the generated\n",
    "pattern.\n",
    "\"\"\""
   ]
  },
  {
   "cell_type": "code",
   "execution_count": null,
   "metadata": {},
   "outputs": [],
   "source": []
  }
 ],
 "metadata": {
  "kernelspec": {
   "display_name": "base",
   "language": "python",
   "name": "python3"
  },
  "language_info": {
   "codemirror_mode": {
    "name": "ipython",
    "version": 3
   },
   "file_extension": ".py",
   "mimetype": "text/x-python",
   "name": "python",
   "nbconvert_exporter": "python",
   "pygments_lexer": "ipython3",
   "version": "3.11.4"
  }
 },
 "nbformat": 4,
 "nbformat_minor": 2
}
