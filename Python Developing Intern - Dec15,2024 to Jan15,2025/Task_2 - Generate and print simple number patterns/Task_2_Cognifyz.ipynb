{
 "cells": [
  {
   "cell_type": "code",
   "execution_count": 111,
   "metadata": {},
   "outputs": [
    {
     "data": {
      "text/plain": [
       "'\\nTask 2: Generate and print simple number patterns.\\nObjective: Utilize loops to control the structure of number patterns.\\nSteps:\\nSelect a number pattern type (e.g., pyramid).\\n1. Develop a program to generate the selected pattern.\\n2. Use loops to control the structure of the pattern.\\n3. Verify the correctness of the generated pattern.\\n'"
      ]
     },
     "execution_count": 111,
     "metadata": {},
     "output_type": "execute_result"
    }
   ],
   "source": [
    "\"\"\"\n",
    "Task 2: Generate and print simple number patterns.\n",
    "Objective: Utilize loops to control the structure of number patterns.\n",
    "Steps:\n",
    "Select a number pattern type (e.g., pyramid).\n",
    "1. Develop a program to generate the selected pattern.\n",
    "2. Use loops to control the structure of the pattern.\n",
    "3. Verify the correctness of the generated pattern.\n",
    "\"\"\""
   ]
  },
  {
   "cell_type": "code",
   "execution_count": 112,
   "metadata": {},
   "outputs": [],
   "source": [
    "# Pyramid (Centered) , \n",
    "# Diamond (Symmetric) , \n",
    "# Right-Angle Triangle (Right Perpendicular), \n",
    "# Right-Angle Triangle (Left Perpendicular)"
   ]
  },
  {
   "cell_type": "code",
   "execution_count": 113,
   "metadata": {},
   "outputs": [
    {
     "name": "stdout",
     "output_type": "stream",
     "text": [
      "Pyramid (Centered)\n",
      "Diamond (Symmetric)\n",
      "Right-Angle Triangle (Right Perpendicular)\n",
      "Right-Angle Triangle (Left Perpendicular)\n"
     ]
    }
   ],
   "source": [
    "pattern=[\"Pyramid (Centered)\",\"Diamond (Symmetric)\",\"Right-Angle Triangle (Right Perpendicular)\",\"Right-Angle Triangle (Left Perpendicular)\"]\n",
    "for i in pattern:\n",
    "    print(i)"
   ]
  },
  {
   "cell_type": "code",
   "execution_count": 114,
   "metadata": {},
   "outputs": [
    {
     "name": "stdout",
     "output_type": "stream",
     "text": [
      "Entered choise 1 : Pyramid (Centered)\n",
      "        * \n",
      "      * * * \n",
      "    * * * * * \n",
      "  * * * * * * * \n",
      "* * * * * * * * * \n"
     ]
    }
   ],
   "source": [
    "def Pyramid(choise,size):\n",
    "    print(f\"Entered choise {choise} : Pyramid (Centered)\")\n",
    "    for i in range(size):\n",
    "        for j in range(size-(i+1)):\n",
    "            print(\" \",end=\" \")\n",
    "        for k in range((2*i)+1):\n",
    "            print(\"*\",end=\" \")\n",
    "        print()\n",
    "Pyramid(choise=1,size=5)"
   ]
  },
  {
   "cell_type": "code",
   "execution_count": 115,
   "metadata": {},
   "outputs": [
    {
     "name": "stdout",
     "output_type": "stream",
     "text": [
      "Entered choise 2 : Diamond (Symmetric)\n",
      "        * \n",
      "      * * * \n",
      "    * * * * * \n",
      "  * * * * * * * \n",
      "* * * * * * * * * \n",
      "  * * * * * * * \n",
      "    * * * * * \n",
      "      * * * \n",
      "        * \n",
      "          \n"
     ]
    }
   ],
   "source": [
    "def Diamond(choise,size):\n",
    "    print(f\"Entered choise {choise} : Diamond (Symmetric)\")\n",
    "    for i in range(size):\n",
    "        for j in range(size-(i+1)):\n",
    "            print(\" \",end=\" \")\n",
    "        for k in range(2*i+1):\n",
    "            print(\"*\",end=\" \")\n",
    "        print()\n",
    "    for i in range(size):\n",
    "        for j in range(i+1):\n",
    "            print(\" \",end=\" \")\n",
    "        for k in range((2*(size-i-1))-1):\n",
    "            print(\"*\",end=\" \")\n",
    "        print()\n",
    "Diamond(choise=2,size=5)"
   ]
  },
  {
   "cell_type": "code",
   "execution_count": 116,
   "metadata": {},
   "outputs": [
    {
     "name": "stdout",
     "output_type": "stream",
     "text": [
      "Entered choise 3 : Right-Angle Triangle (Right Perpendicular)\n",
      "        * \n",
      "      * * \n",
      "    * * * \n",
      "  * * * * \n",
      "* * * * * \n"
     ]
    }
   ],
   "source": [
    "def Right_AngTrn_RightPrd(choise,size):\n",
    "    print(f\"Entered choise {choise} : Right-Angle Triangle (Right Perpendicular)\")\n",
    "    for i in range(size):\n",
    "        for j in range(size-(i+1)):\n",
    "            print(\" \",end=\" \")\n",
    "        for k in range(i+1):\n",
    "            print(\"*\",end=\" \")\n",
    "        print()\n",
    "Right_AngTrn_RightPrd(choise=3,size=5)"
   ]
  },
  {
   "cell_type": "code",
   "execution_count": 117,
   "metadata": {},
   "outputs": [
    {
     "name": "stdout",
     "output_type": "stream",
     "text": [
      "Entered choise 4 : Right-Angle Triangle (Left Perpendicular)\n",
      "* \n",
      "* * \n",
      "* * * \n",
      "* * * * \n",
      "* * * * * \n"
     ]
    }
   ],
   "source": [
    "def Right_AngTrn_LeftPrd(choise,size):\n",
    "    print(f\"Entered choise {choise} : Right-Angle Triangle (Left Perpendicular)\")\n",
    "    for i in range(size):\n",
    "        for j in range(i+1):\n",
    "            print(\"*\",end=\" \")\n",
    "        print()\n",
    "Right_AngTrn_LeftPrd(choise=4,size=5)"
   ]
  },
  {
   "cell_type": "code",
   "execution_count": 126,
   "metadata": {},
   "outputs": [
    {
     "name": "stdout",
     "output_type": "stream",
     "text": [
      "Press 1 for displaying Pyramid (Centered) pattern\n",
      "Press 2 for displaying Diamond (Symmetric) pattern\n",
      "Press 3 for displaying Right-Angle Triangle (Right Perpendicular) pattern\n",
      "Press 4 for displaying Right-Angle Triangle (Left Perpendicular) pattern\n",
      "************************************************************************************************************************\n",
      "Value error happened\n",
      "************************************************** PATTERN EXECUTED **************************************************\n"
     ]
    }
   ],
   "source": [
    "c=0\n",
    "for i in pattern:\n",
    "    print(f\"Press {c+1} for displaying {i} pattern\")\n",
    "    c=c+1\n",
    "print(\"*\"*120)\n",
    "try:\n",
    "    size=int(input(\"Please Enter the dimension : \"))\n",
    "    choise=int(input(\"Please Enter the Choise : \"))\n",
    "    if(choise==1):\n",
    "        Pyramid(choise,size)\n",
    "    elif(choise==2):\n",
    "        Diamond(choise,size)\n",
    "    elif(choise==3):\n",
    "        Right_AngTrn_RightPrd(choise,size)\n",
    "    elif(choise==4):\n",
    "        Right_AngTrn_LeftPrd(choise,size)\n",
    "    else:\n",
    "        print(\"Wrong Choise entered\")   \n",
    "except ValueError:\n",
    "    print(\"Value error happened\")\n",
    "except TypeError:\n",
    "    print(\"Type error occourd\")\n",
    "finally:\n",
    "    print(\"*\"*50,\"Pattern Executed\".upper(),\"*\"*50)"
   ]
  },
  {
   "cell_type": "code",
   "execution_count": null,
   "metadata": {},
   "outputs": [],
   "source": []
  }
 ],
 "metadata": {
  "kernelspec": {
   "display_name": "base",
   "language": "python",
   "name": "python3"
  },
  "language_info": {
   "codemirror_mode": {
    "name": "ipython",
    "version": 3
   },
   "file_extension": ".py",
   "mimetype": "text/x-python",
   "name": "python",
   "nbconvert_exporter": "python",
   "pygments_lexer": "ipython3",
   "version": "3.11.4"
  }
 },
 "nbformat": 4,
 "nbformat_minor": 2
}
