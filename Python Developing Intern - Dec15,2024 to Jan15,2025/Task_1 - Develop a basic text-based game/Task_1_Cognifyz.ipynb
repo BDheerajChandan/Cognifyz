{
 "cells": [
  {
   "cell_type": "code",
   "execution_count": 3,
   "metadata": {},
   "outputs": [
    {
     "data": {
      "text/plain": [
       "'\\nTask 1: Develop a basic\\ntext-based game.\\nObjective: Implement a simple game using\\nconditional statements for game logic.\\nSteps:\\n1.Choose a game type (quiz, guessing game).\\n2.Define the game rules and logic.\\nUse conditional statements to manage\\ngame flow.\\n3.\\n4.Test and debug the game for correctness.\\n'"
      ]
     },
     "execution_count": 3,
     "metadata": {},
     "output_type": "execute_result"
    }
   ],
   "source": [
    "\"\"\"\n",
    "Task 1: Develop a basic\n",
    "text-based game.\n",
    "Objective: Implement a simple game using\n",
    "conditional statements for game logic.\n",
    "Steps:\n",
    "1.Choose a game type (quiz, guessing game).\n",
    "2.Define the game rules and logic.\n",
    "Use conditional statements to manage\n",
    "game flow.\n",
    "3.\n",
    "4.Test and debug the game for correctness.\n",
    "\"\"\""
   ]
  },
  {
   "cell_type": "code",
   "execution_count": null,
   "metadata": {},
   "outputs": [],
   "source": []
  }
 ],
 "metadata": {
  "kernelspec": {
   "display_name": "base",
   "language": "python",
   "name": "python3"
  },
  "language_info": {
   "codemirror_mode": {
    "name": "ipython",
    "version": 3
   },
   "file_extension": ".py",
   "mimetype": "text/x-python",
   "name": "python",
   "nbconvert_exporter": "python",
   "pygments_lexer": "ipython3",
   "version": "3.11.4"
  }
 },
 "nbformat": 4,
 "nbformat_minor": 2
}
