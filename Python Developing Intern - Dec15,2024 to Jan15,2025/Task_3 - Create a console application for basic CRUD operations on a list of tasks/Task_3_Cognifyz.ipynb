{
 "cells": [
  {
   "cell_type": "code",
   "execution_count": 14,
   "metadata": {},
   "outputs": [
    {
     "data": {
      "text/plain": [
       "'\\nTask 3: Create a console application for basic CRUD operations on a list of tasks.\\nObjective: Implement Create, Read, Update, and Delete operations using arrays or lists for data storage.\\nSteps:\\n1.Define a Task class with necessary attributes.\\n2.Implement functionality to create a new task.\\n3.Develop a method to read and display tasks.\\n4.Allow users to update task details.\\n5.Provide an option to delete tasks.\\n6.Test the application with various scenarios\\n'"
      ]
     },
     "execution_count": 14,
     "metadata": {},
     "output_type": "execute_result"
    }
   ],
   "source": [
    "\"\"\"\n",
    "Task 3: Create a console application for basic CRUD operations on a list of tasks.\n",
    "Objective: Implement Create, Read, Update, and Delete operations using arrays or lists for data storage.\n",
    "Steps:\n",
    "1.Define a Task class with necessary attributes.\n",
    "2.Implement functionality to create a new task.\n",
    "3.Develop a method to read and display tasks.\n",
    "4.Allow users to update task details.\n",
    "5.Provide an option to delete tasks.\n",
    "6.Test the application with various scenarios\n",
    "\"\"\""
   ]
  },
  {
   "cell_type": "code",
   "execution_count": 15,
   "metadata": {},
   "outputs": [],
   "source": [
    "class Task:\n",
    "    def __init__(self, Roll, Name, Age, Marks):\n",
    "        self.Roll = Roll\n",
    "        self.Name = Name\n",
    "        self.Age = Age\n",
    "        self.Marks = Marks\n",
    "\n",
    "    def Create(self):\n",
    "        return {\"Roll\": self.Roll, \"Name\": self.Name, \"Age\": self.Age, \"Marks\": self.Marks}\n",
    "    \n",
    "    def Update(self, new_roll=None, new_name=None, new_age=None, new_marks=None):\n",
    "        if new_roll is not None:\n",
    "            self.Roll = new_roll\n",
    "        if new_name is not None:\n",
    "            self.Name = new_name\n",
    "        if new_age is not None:\n",
    "            self.Age = new_age\n",
    "        if new_marks is not None:\n",
    "            self.Marks = new_marks\n",
    "    \n",
    "    def Delete(self, task_list):\n",
    "        for task in task_list:\n",
    "            if task[\"Roll\"] == self.Roll:\n",
    "                task_list.remove(task)\n",
    "                return True\n",
    "        return False\n",
    "\n",
    "    def Read(self):\n",
    "        print(f\"Roll: {self.Roll}, Name: {self.Name}, Age: {self.Age}, Marks: {self.Marks}\")"
   ]
  },
  {
   "cell_type": "code",
   "execution_count": 16,
   "metadata": {},
   "outputs": [],
   "source": [
    "class Task:\n",
    "    def __init__(self, Roll, Name, Age, Marks):\n",
    "        self.Roll = Roll\n",
    "        self.Name = Name\n",
    "        self.Age = Age\n",
    "        self.Marks = Marks\n",
    "\n",
    "    def Create(self):\n",
    "        return {\"Roll\": self.Roll, \"Name\": self.Name, \"Age\": self.Age, \"Marks\": self.Mks}\n",
    "\n",
    "    def Update(self, new_roll=None, new_name=None, new_age=None, new_marks=None):\n",
    "        if new_roll is not None:\n",
    "            self.Roll = new_roll\n",
    "        if new_name is not None:\n",
    "            self.Name = new_name\n",
    "        if new_age is not None:\n",
    "            self.Age = new_age\n",
    "        if new_marks is not None:\n",
    "            self.Marks = new_marks\n",
    "\n",
    "    def Delete(self, task_list):\n",
    "        for task in task_list:\n",
    "            if task.Roll == self.Roll:\n",
    "                task_list.remove(task)\n",
    "                print(f\"Task with Roll number {self.Roll} deleted.\")\n",
    "                return True\n",
    "        print(f\"Task with Roll number {self.Roll} not found.\")\n",
    "        return False\n",
    "\n",
    "    def Read(self):\n",
    "        print(f\"Roll: {self.Roll}, Name: {self.Name}, Age: {self.Age}, Marks: {self.Marks}\")\n"
   ]
  },
  {
   "cell_type": "code",
   "execution_count": 17,
   "metadata": {},
   "outputs": [
    {
     "name": "stdout",
     "output_type": "stream",
     "text": [
      "Task Created: Roll:1, Name:Dheeraj, Age:25, Marks:89\n",
      "Task Created: Roll:2, Name:Chandan, Age:54, Marks:93\n",
      "Task Created: Roll:3, Name:Ramesh, Age:43, Marks:84\n",
      "\n",
      "Displaying all tasks:\n",
      "Roll: 1, Name: Dheeraj, Age: 25, Marks: 89\n",
      "Roll: 2, Name: Chandan, Age: 54, Marks: 93\n",
      "Roll: 3, Name: Ramesh, Age: 43, Marks: 84\n"
     ]
    }
   ],
   "source": [
    "task_list = []# Initialize an empty task list\n",
    "\n",
    "# Create tasks and add them to the list\n",
    "while(True):\n",
    "    try:\n",
    "        roll = int(input(\"\\nEnter Roll number: \"))\n",
    "        name = input(\"Enter Name: \")\n",
    "        age = int(input(\"Enter Age: \"))\n",
    "        marks = int(input(\"Enter Marks: \"))        \n",
    "        t = Task(roll, name, age, marks)                # Create a Task object and append it to the list\n",
    "        task_list.append(t)                             # Add the task to the list    \n",
    "        print(f\"Task Created: Roll:{t.Roll}, Name:{t.Name}, Age:{t.Age}, Marks:{t.Marks}\")  # Display task details\n",
    "        cont = input(\"Do you want to add another task? (yes/no): \").lower()                             # Ask if user wants to create another task\n",
    "        if cont != 'yes':\n",
    "            break\n",
    "    except ValueError:\n",
    "        print(\"Invalid input! Please enter valid numbers for Roll, Age, and Marks.\")\n",
    "\n",
    "print(\"\\nDisplaying all tasks:\")                        # Display all tasks before any operation\n",
    "for t in task_list:\n",
    "    t.Read()                                         # Using Read() from Task class to display details"
   ]
  },
  {
   "cell_type": "code",
   "execution_count": 18,
   "metadata": {},
   "outputs": [
    {
     "name": "stdout",
     "output_type": "stream",
     "text": [
      "\n",
      "Displaying all tasks:\n",
      "Roll: 1, Name: Dheeraj, Age: 25, Marks: 89\n",
      "Roll: 2, Name: Chandan, Age: 54, Marks: 93\n",
      "Roll: 3, Name: Ramesh, Age: 43, Marks: 84\n"
     ]
    }
   ],
   "source": [
    "print(\"\\nDisplaying all tasks:\")                        # Display all tasks before any operation\n",
    "for t in task_list:\n",
    "    t.Read()                                         # Using Read() from Task class to display details\n"
   ]
  },
  {
   "cell_type": "code",
   "execution_count": 19,
   "metadata": {},
   "outputs": [
    {
     "name": "stdout",
     "output_type": "stream",
     "text": [
      "\n",
      "Updating task with Roll number\n",
      "Roll: 3, Name: Ashwini, Age: 43, Marks: 85\n",
      "\n",
      "Displaying all tasks:\n",
      "Roll: 1, Name: Dheeraj, Age: 25, Marks: 89\n",
      "Roll: 2, Name: Chandan, Age: 54, Marks: 93\n",
      "Roll: 3, Name: Ashwini, Age: 43, Marks: 85\n"
     ]
    }
   ],
   "source": [
    "print(\"\\nUpdating task with Roll number\")          # Update a task (e.g., task with Roll number 1)\n",
    "roll_update=int(input(\"Enter roll number for update : \"))\n",
    "for t in task_list:\n",
    "    if t.Roll == roll_update:\n",
    "        t.Update(new_name=\"Ashwini\", new_marks=85)    # Update name and marks\n",
    "        t.Read()                                     # Display updated task details\n",
    "\n",
    "print(\"\\nDisplaying all tasks:\")                        # Display all tasks before any operation\n",
    "for t in task_list:\n",
    "    t.Read()                                         # Using Read() from Task class to display details\n"
   ]
  },
  {
   "cell_type": "code",
   "execution_count": 20,
   "metadata": {},
   "outputs": [
    {
     "name": "stdout",
     "output_type": "stream",
     "text": [
      "\n",
      "Deleting task with Roll number\n",
      "Task with Roll number 3 deleted.\n",
      "\n",
      "Displaying tasks after deletion:\n",
      "Roll: 1, Name: Dheeraj, Age: 25, Marks: 89\n",
      "Roll: 2, Name: Chandan, Age: 54, Marks: 93\n"
     ]
    }
   ],
   "source": [
    "print(\"\\nDeleting task with Roll number\")          # Deleting a task (e.g., task with Roll number 1)\n",
    "for t in task_list:\n",
    "    if t.Roll == roll_update:\n",
    "        t.Delete(task_list)                          # Delete the task from the list\n",
    "\n",
    "print(\"\\nDisplaying tasks after deletion:\")             # Displaying tasks after deletion\n",
    "for t in task_list:\n",
    "    t.Read()                                         # Using Read() from Task class to display details"
   ]
  }
 ],
 "metadata": {
  "kernelspec": {
   "display_name": "base",
   "language": "python",
   "name": "python3"
  },
  "language_info": {
   "codemirror_mode": {
    "name": "ipython",
    "version": 3
   },
   "file_extension": ".py",
   "mimetype": "text/x-python",
   "name": "python",
   "nbconvert_exporter": "python",
   "pygments_lexer": "ipython3",
   "version": "3.11.4"
  }
 },
 "nbformat": 4,
 "nbformat_minor": 2
}
