{
 "cells": [
  {
   "cell_type": "code",
   "execution_count": 2,
   "metadata": {},
   "outputs": [
    {
     "data": {
      "text/plain": [
       "'\\nTask 3: Create a console application\\nfor basic CRUD operations on a list\\nof tasks.\\nObjective: Implement Create, Read, Update, and\\nDelete operations using arrays or lists for data\\nstorage.\\nSteps:\\n1.Define a Task class with necessary attributes.\\n2.Implement functionality to create a new task.\\n3.Develop a method to read and display tasks.\\n4.Allow users to update task details.\\n5.Provide an option to delete tasks.\\n6.Test the application with various scenarios\\n'"
      ]
     },
     "execution_count": 2,
     "metadata": {},
     "output_type": "execute_result"
    }
   ],
   "source": [
    "\"\"\"\n",
    "Task 3: Create a console application for basic CRUD operations on a list of tasks.\n",
    "Objective: Implement Create, Read, Update, and Delete operations using arrays or lists for data storage.\n",
    "Steps:\n",
    "1.Define a Task class with necessary attributes.\n",
    "2.Implement functionality to create a new task.\n",
    "3.Develop a method to read and display tasks.\n",
    "4.Allow users to update task details.\n",
    "5.Provide an option to delete tasks.\n",
    "6.Test the application with various scenarios\n",
    "\"\"\""
   ]
  },
  {
   "cell_type": "code",
   "execution_count": null,
   "metadata": {},
   "outputs": [],
   "source": []
  }
 ],
 "metadata": {
  "kernelspec": {
   "display_name": "base",
   "language": "python",
   "name": "python3"
  },
  "language_info": {
   "codemirror_mode": {
    "name": "ipython",
    "version": 3
   },
   "file_extension": ".py",
   "mimetype": "text/x-python",
   "name": "python",
   "nbconvert_exporter": "python",
   "pygments_lexer": "ipython3",
   "version": "3.11.4"
  }
 },
 "nbformat": 4,
 "nbformat_minor": 2
}
