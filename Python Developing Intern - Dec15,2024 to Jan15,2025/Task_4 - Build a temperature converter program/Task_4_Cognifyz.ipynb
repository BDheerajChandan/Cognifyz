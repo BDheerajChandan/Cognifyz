{
 "cells": [
  {
   "cell_type": "code",
   "execution_count": null,
   "metadata": {},
   "outputs": [],
   "source": [
    "\"\"\"\n",
    "Task 4: Build a temperature converter program.\n",
    "Objective: Enable users to input temperatures and choose the conversion direction between Fahrenheit and Celsius.\n",
    "Steps:\n",
    "1. Design a program to accept temperature input.\n",
    "2. Implement logic for temperature conversion.\n",
    "3. Allow users to choose the conversion direction.\n",
    "4.Test the program with different input values.\n",
    "\"\"\""
   ]
  },
  {
   "cell_type": "code",
   "execution_count": null,
   "metadata": {},
   "outputs": [],
   "source": [
    "def Celsius_To_Fahrenheit(temp):\n",
    "    print(f\"Converting Celsius to Fahrenheit : \")\n",
    "    print(f\"Celsius : {temp}\")\n",
    "    F=(temp *(9/5))+32                         # °F = °C * 9/5 + 32\n",
    "    print(\"-\"*35)\n",
    "    print(f\"Fahrenheit : {F}\")\n",
    "Celsius_To_Fahrenheit(0)"
   ]
  },
  {
   "cell_type": "code",
   "execution_count": null,
   "metadata": {},
   "outputs": [],
   "source": [
    "def Fahrenheit_To_Celsius(temp):\n",
    "    print(f\"Converting Fahrenheit To Celsius : \")\n",
    "    print(f\"Fahrenheit : {temp}\")\n",
    "    C=(temp-32)*(5/9)                          # °C = (°F - 32) × 5/9\n",
    "    print(\"-\"*35)\n",
    "    print(f\"Celsius : {C}\")\n",
    "Fahrenheit_To_Celsius(32)"
   ]
  },
  {
   "cell_type": "code",
   "execution_count": 16,
   "metadata": {},
   "outputs": [
    {
     "name": "stdout",
     "output_type": "stream",
     "text": [
      "Press 1 for converting Celsius To Fahrenheit\n",
      "Press 2 for converting Fahrenheit To Celsius\n",
      "Enter the Choice : 1\n",
      "Enter the tempertaure to get converted : \n",
      "Converting Celsius to Fahrenheit : \n",
      "Celsius : 32.0\n",
      "-----------------------------------\n",
      "Fahrenheit : 89.6\n"
     ]
    }
   ],
   "source": [
    "temp_convert=[\"Celsius To Fahrenheit\",\"Fahrenheit To Celsius\"]\n",
    "for i in range(len(temp_convert)):\n",
    "    print(f\"Press {i+1} for converting {temp_convert[i]}\")\n",
    "print(\"Enter the Choice : \",end=\"\")\n",
    "choice=int(input(\"Enter the Choice\"))\n",
    "print(choice)\n",
    "\n",
    "print(\"Enter the tempertaure to get converted : \",end=\"\")\n",
    "temp=float(input(\"Enter the tempertaure to get converted : \"))\n",
    "print()\n",
    "if(choice==1):\n",
    "    Celsius_To_Fahrenheit(temp)\n",
    "elif(choice==2):\n",
    "    Fahrenheit_To_Celsius(temp)\n",
    "else:\n",
    "    pass"
   ]
  }
 ],
 "metadata": {
  "kernelspec": {
   "display_name": "base",
   "language": "python",
   "name": "python3"
  },
  "language_info": {
   "codemirror_mode": {
    "name": "ipython",
    "version": 3
   },
   "file_extension": ".py",
   "mimetype": "text/x-python",
   "name": "python",
   "nbconvert_exporter": "python",
   "pygments_lexer": "ipython3",
   "version": "3.11.4"
  }
 },
 "nbformat": 4,
 "nbformat_minor": 2
}
