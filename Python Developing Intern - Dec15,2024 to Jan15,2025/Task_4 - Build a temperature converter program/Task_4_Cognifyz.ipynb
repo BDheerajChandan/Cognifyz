{
 "cells": [
  {
   "cell_type": "code",
   "execution_count": 2,
   "metadata": {},
   "outputs": [
    {
     "data": {
      "text/plain": [
       "'\\nTask 4: Build a temperature\\nconverter program.\\nObjective: Enable users to input temperatures\\nand choose the conversion direction between\\nFahrenheit and Celsius.\\nSteps:\\nDesign a program to accept temperature\\ninput.\\n1.\\n2.Implement logic for temperature conversion.\\nAllow users to choose the conversion\\ndirection.\\n3.\\n4.Test the program with different input values.\\n'"
      ]
     },
     "execution_count": 2,
     "metadata": {},
     "output_type": "execute_result"
    }
   ],
   "source": [
    "\"\"\"\n",
    "Task 4: Build a temperature\n",
    "converter program.\n",
    "Objective: Enable users to input temperatures\n",
    "and choose the conversion direction between\n",
    "Fahrenheit and Celsius.\n",
    "Steps:\n",
    "Design a program to accept temperature\n",
    "input.\n",
    "1.\n",
    "2.Implement logic for temperature conversion.\n",
    "Allow users to choose the conversion\n",
    "direction.\n",
    "3.\n",
    "4.Test the program with different input values.\n",
    "\"\"\""
   ]
  },
  {
   "cell_type": "code",
   "execution_count": null,
   "metadata": {},
   "outputs": [],
   "source": []
  }
 ],
 "metadata": {
  "kernelspec": {
   "display_name": "base",
   "language": "python",
   "name": "python3"
  },
  "language_info": {
   "codemirror_mode": {
    "name": "ipython",
    "version": 3
   },
   "file_extension": ".py",
   "mimetype": "text/x-python",
   "name": "python",
   "nbconvert_exporter": "python",
   "pygments_lexer": "ipython3",
   "version": "3.11.4"
  }
 },
 "nbformat": 4,
 "nbformat_minor": 2
}
