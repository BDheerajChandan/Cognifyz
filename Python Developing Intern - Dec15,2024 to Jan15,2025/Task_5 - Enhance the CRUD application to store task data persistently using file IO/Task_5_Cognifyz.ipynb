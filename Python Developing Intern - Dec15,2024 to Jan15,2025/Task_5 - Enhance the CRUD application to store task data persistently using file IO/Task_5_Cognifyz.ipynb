{
 "cells": [
  {
   "cell_type": "code",
   "execution_count": 2,
   "metadata": {},
   "outputs": [
    {
     "data": {
      "text/plain": [
       "'\\nTask 5: Enhance the CRUD\\napplication to store task data persistently\\nusing file I/O.\\nObjective: Implement file storage for tasks\\nto enable saving and loading from a text file.\\nSteps:\\nModify the application to read and write\\ntasks to a text file.\\n1.\\nImplement error handling for file\\noperations.\\n2.\\n3.Test the persistence of task data.\\n'"
      ]
     },
     "execution_count": 2,
     "metadata": {},
     "output_type": "execute_result"
    }
   ],
   "source": [
    "\"\"\"\n",
    "Task 5: Enhance the CRUD application to store task data persistently using file I/O.\n",
    "Objective: Implement file storage for tasks to enable saving and loading from a text file.\n",
    "\n",
    "Steps:\n",
    "1. Modify the application to read and write tasks to a text file.\n",
    "2. Implement error handling for file operations.\n",
    "3. Test the persistence of task data.\n",
    "\"\"\""
   ]
  },
  {
   "cell_type": "code",
   "execution_count": null,
   "metadata": {},
   "outputs": [],
   "source": []
  }
 ],
 "metadata": {
  "kernelspec": {
   "display_name": "base",
   "language": "python",
   "name": "python3"
  },
  "language_info": {
   "codemirror_mode": {
    "name": "ipython",
    "version": 3
   },
   "file_extension": ".py",
   "mimetype": "text/x-python",
   "name": "python",
   "nbconvert_exporter": "python",
   "pygments_lexer": "ipython3",
   "version": "3.11.4"
  }
 },
 "nbformat": 4,
 "nbformat_minor": 2
}
