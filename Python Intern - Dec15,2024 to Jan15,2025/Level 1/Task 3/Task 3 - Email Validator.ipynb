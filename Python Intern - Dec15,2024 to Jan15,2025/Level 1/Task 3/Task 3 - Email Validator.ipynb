{
 "cells": [
  {
   "cell_type": "code",
   "execution_count": null,
   "metadata": {},
   "outputs": [],
   "source": [
    "\"\"\"\n",
    "Develop a Python function that validates whether a given string is a valid email address. \n",
    "Implement checks for the format, including the presence of an \"@\" symbol and a domain name.\n",
    "\"\"\""
   ]
  },
  {
   "cell_type": "code",
   "execution_count": 8,
   "metadata": {},
   "outputs": [
    {
     "name": "stdout",
     "output_type": "stream",
     "text": [
      "True\n"
     ]
    }
   ],
   "source": [
    "import re\n",
    "def Email_Validator(email_id):\n",
    "    regex = r'^[a-zA-Z0-9._%+-]+@[a-zA-Z0-9.-]+\\.[a-zA-Z]{2,}$'\n",
    "    l=[\".com\",\"gamil\",\"yahoo\",\"zoho\"]\n",
    "    if (\"@\" in email_id) and any((i in email_id) for i in l) and re.match(regex, email_id):\n",
    "        print(True)\n",
    "    else:\n",
    "        print(False)\n",
    "\n",
    "email_addr=\"Dheeraj@gmail.com\"\n",
    "Email_Validator(email_addr)"
   ]
  },
  {
   "cell_type": "code",
   "execution_count": null,
   "metadata": {},
   "outputs": [],
   "source": []
  }
 ],
 "metadata": {
  "kernelspec": {
   "display_name": "base",
   "language": "python",
   "name": "python3"
  },
  "language_info": {
   "codemirror_mode": {
    "name": "ipython",
    "version": 3
   },
   "file_extension": ".py",
   "mimetype": "text/x-python",
   "name": "python",
   "nbconvert_exporter": "python",
   "pygments_lexer": "ipython3",
   "version": "3.11.4"
  }
 },
 "nbformat": 4,
 "nbformat_minor": 2
}
