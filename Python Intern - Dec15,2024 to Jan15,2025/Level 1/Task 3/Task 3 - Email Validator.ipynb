{
 "cells": [
  {
   "cell_type": "code",
   "execution_count": null,
   "metadata": {},
   "outputs": [],
   "source": [
    "\"\"\"\n",
    "Develop a Python function that validates whether a given string is a valid email address. \n",
    "Implement checks for the format, including the presence of an \"@\" symbol and a domain name.\n",
    "\"\"\""
   ]
  },
  {
   "cell_type": "code",
   "execution_count": 8,
   "metadata": {},
   "outputs": [
    {
     "name": "stdout",
     "output_type": "stream",
     "text": [
      "True\n"
     ]
    }
   ],
   "source": [
    "import re                                                                                       # Importing the module for checking the pattern\n",
    "def Email_Validator(email_id):                                                                  # Declare a function that takes a email checks valid or not\n",
    "    regex = r'^[a-zA-Z0-9._%+-]+@[a-zA-Z0-9.-]+\\.[a-zA-Z]{2,}$'                                 # Pattern for email\n",
    "    l=[\".com\",\"gamil\",\"yahoo\",\"zoho\"]                                                           # Domain names in a list\n",
    "    if (\"@\" in email_id) and any((i in email_id) for i in l) and re.match(regex, email_id):     # Checking the condition for valid eamil by regex\n",
    "        print(True)                                                                             # Display True if email is valid\n",
    "    else:\n",
    "        print(False)                                                                            # Display False if email is not valid\n",
    "\n",
    "email_addr=\"Dheeraj@gmail.com\"\n",
    "Email_Validator(email_addr)                                     # Call the function by passing the email for checking valid or not"
   ]
  },
  {
   "cell_type": "code",
   "execution_count": null,
   "metadata": {},
   "outputs": [],
   "source": []
  }
 ],
 "metadata": {
  "kernelspec": {
   "display_name": "base",
   "language": "python",
   "name": "python3"
  },
  "language_info": {
   "codemirror_mode": {
    "name": "ipython",
    "version": 3
   },
   "file_extension": ".py",
   "mimetype": "text/x-python",
   "name": "python",
   "nbconvert_exporter": "python",
   "pygments_lexer": "ipython3",
   "version": "3.11.4"
  }
 },
 "nbformat": 4,
 "nbformat_minor": 2
}
