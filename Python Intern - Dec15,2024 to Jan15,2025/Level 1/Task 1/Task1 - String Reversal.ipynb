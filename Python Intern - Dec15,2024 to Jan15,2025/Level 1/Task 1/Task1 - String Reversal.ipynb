{
 "cells": [
  {
   "cell_type": "code",
   "execution_count": null,
   "metadata": {},
   "outputs": [],
   "source": [
    "\"\"\"\n",
    "Create a Python function that takes a\n",
    "string as input and returns the reverse of\n",
    "that string. For example, if the input is\n",
    "\"hello,\n",
    "\" the function should return\n",
    "\"olleh.\n",
    "\"\"\""
   ]
  },
  {
   "cell_type": "code",
   "execution_count": 1,
   "metadata": {},
   "outputs": [
    {
     "name": "stdout",
     "output_type": "stream",
     "text": [
      "Enter the string to get reversed : Hello\n",
      "Reversed string value :  olleH\n"
     ]
    }
   ],
   "source": [
    "def str_rev(s):\n",
    "    rev_s=s[::-1]\n",
    "    print(\"Reversed string value : \",rev_s)\n",
    "\n",
    "print(\"Enter the string to get reversed : \",end=\"\")\n",
    "Org_s=input(\"Enter the string : \")\n",
    "print(Org_s)\n",
    "str_rev(Org_s)"
   ]
  }
 ],
 "metadata": {
  "kernelspec": {
   "display_name": "base",
   "language": "python",
   "name": "python3"
  },
  "language_info": {
   "codemirror_mode": {
    "name": "ipython",
    "version": 3
   },
   "file_extension": ".py",
   "mimetype": "text/x-python",
   "name": "python",
   "nbconvert_exporter": "python",
   "pygments_lexer": "ipython3",
   "version": "3.11.4"
  }
 },
 "nbformat": 4,
 "nbformat_minor": 2
}
