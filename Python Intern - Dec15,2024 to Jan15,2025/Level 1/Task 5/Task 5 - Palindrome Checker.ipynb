{
 "cells": [
  {
   "cell_type": "code",
   "execution_count": 1,
   "metadata": {},
   "outputs": [
    {
     "data": {
      "text/plain": [
       "'\\nWrite a Python function that checks whether\\na given string is a palindrome. A palindrome\\nis a word, phrase, or sequence that reads the\\nsame backward as forward (e.g.,\\n\"madam\" or\\n\"racecar\").\\n'"
      ]
     },
     "execution_count": 1,
     "metadata": {},
     "output_type": "execute_result"
    }
   ],
   "source": [
    "\"\"\"\n",
    "Write a Python function that checks whether a given string is a palindrome. \n",
    "A palindrome is a word, phrase, or sequence that reads the same backward as forward \n",
    "(e.g.,\"madam\" or\"racecar\").\n",
    "\"\"\""
   ]
  },
  {
   "cell_type": "code",
   "execution_count": 3,
   "metadata": {},
   "outputs": [
    {
     "name": "stdout",
     "output_type": "stream",
     "text": [
      "Enter the string to check for Palindrom status : 1231\n",
      "1231 is not a palindrome string\n"
     ]
    }
   ],
   "source": [
    "def Palindrome(s):                                                  # Declare a function that takes input from user\n",
    "    if(type(s)==str):                                               # If input is str\n",
    "        if(s[::]==s[::-1]):                                         # Using string slicing check for palindrome property\n",
    "            print(f\"{s} is a palindrome string\")\n",
    "        else:\n",
    "            print(f\"{s} is not a palindrome string\")\n",
    "    else:\n",
    "        if(str(s[::])==str(s[::-1])):                               # If input is not str then convert to string and check palindrome property\n",
    "            print(f\"{s} is a palindrome number\")\n",
    "        else:\n",
    "            print(f\"{s} is not a palindrome number\")\n",
    "\n",
    "print(\"Enter the string to check for Palindrom status : \",end=\"\")\n",
    "Org_s=input(\"Enter the String : \")                                  # Ask user to enter the value\n",
    "print(Org_s)                                                        # Display the value enterd by the user\n",
    "Palindrome(Org_s)                                                   # Call the function which takes string as a input"
   ]
  },
  {
   "cell_type": "code",
   "execution_count": null,
   "metadata": {},
   "outputs": [],
   "source": []
  }
 ],
 "metadata": {
  "kernelspec": {
   "display_name": "base",
   "language": "python",
   "name": "python3"
  },
  "language_info": {
   "codemirror_mode": {
    "name": "ipython",
    "version": 3
   },
   "file_extension": ".py",
   "mimetype": "text/x-python",
   "name": "python",
   "nbconvert_exporter": "python",
   "pygments_lexer": "ipython3",
   "version": "3.11.4"
  }
 },
 "nbformat": 4,
 "nbformat_minor": 2
}
