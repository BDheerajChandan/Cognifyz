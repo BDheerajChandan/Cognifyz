{
 "cells": [
  {
   "cell_type": "code",
   "execution_count": null,
   "metadata": {},
   "outputs": [],
   "source": [
    "\"\"\"\n",
    "Create a Python program that acts as a basic calculator. It should prompt the user to enter two numbers and an operator \n",
    "(+ , -, * , /, %), and then display the result of the operation.\n",
    "\"\"\""
   ]
  },
  {
   "cell_type": "code",
   "execution_count": 1,
   "metadata": {},
   "outputs": [],
   "source": [
    "def add(n1,n2):                                             # Declare the function which finds addition of 2 input numbers.\n",
    "    print(f\"Addition of {n1} and {n2} : {n1+n2}\")           # Display Addition result\n",
    "def subs(n1,n2):                                            # Declare the function which finds substraction of 2 input numbers.\n",
    "    print(f\"Substraction of {n1} and {n2} : {n1-n2}\")       # Display substraction result\n",
    "def mult(n1,n2):                                            # Declare the function which finds multiplication of 2 input numbers.\n",
    "    print(f\"Multiplication of {n1} and {n2} : {n1*n2}\")     # Display multiplication result\n",
    "def div(n1,n2):                                             # Declare the function which finds division of 2 input numbers.\n",
    "    print(f\"Division of {n1} and {n2} : {n1/n2}\")           # Display Division result\n",
    "def exp(n1,n2):                                             # Declare the function which finds exponential of 2 input numbers.\n",
    "    print(f\"Exponent of {n1} and {n2} : {n1**n2}\")          # Display exponential result"
   ]
  },
  {
   "cell_type": "code",
   "execution_count": 2,
   "metadata": {},
   "outputs": [
    {
     "name": "stdout",
     "output_type": "stream",
     "text": [
      "Enter 1st number : 2\n",
      "Enter 2nd number : 4\n",
      "\n",
      "Press 1 for Addition\n",
      "Press 2 for Substraction\n",
      "Press 3 for Multiplication\n",
      "Press 4 for Division\n",
      "Press 5 for Exponential\n",
      "Enter the choice : 5 \n",
      "\n",
      "Exponent of 2 and 4 : 16\n"
     ]
    }
   ],
   "source": [
    "print(\"Enter 1st number : \",end=\"\")\n",
    "num1=int(input(\"Enter 1st number : \"))                                          # Ask for 1st input number\n",
    "print(num1)                                                                     # Display 1st input number\n",
    "print(\"Enter 2nd number : \",end=\"\")\n",
    "num2=int(input(\"Enter 2nd number : \"))                                          # Ask for 2nd input number\n",
    "print(num2)                                                                     # Display 2md input number\n",
    "print()\n",
    "MathOp=[\"Addition\",\"Substraction\",\"Multiplication\",\"Division\",\"Exponential\"]    # Declare a list with all operations\n",
    "for i in range(len(MathOp)):                                                    \n",
    "    print(f\"Press {i+1} for {MathOp[i]}\")                                       # Display all choice for each operation\n",
    "\n",
    "print(\"Enter the choice : \",end=\"\")                                             \n",
    "choice=int(input(\"Enter the choice : \"))                                        # Enter the choice for mathematical operatation                          \n",
    "print(choice,\"\\n\")\n",
    "result=None\n",
    "if (choice==1):\n",
    "    add(num1,num2)                                                              # If choice is 1 then do addition for 2 input numbers\n",
    "elif (choice==2):\n",
    "    subs(num1,num2)                                                             # If choice is 2 then do substraction for 2 input numbers\n",
    "elif (choice==3):\n",
    "    mult(num1,num2)                                                             # If choice is 3 then do multiplication for 2 input numbers\n",
    "elif (choice==4):\n",
    "    div(num1,num2)                                                              # If choice is 4 then do division for 2 input numbers\n",
    "elif (choice==5):\n",
    "    exp(num1,num2)                                                              # If choice is 4 then do exponential for 2 input numbers\n",
    "else:\n",
    "    pass"
   ]
  },
  {
   "cell_type": "code",
   "execution_count": null,
   "metadata": {},
   "outputs": [],
   "source": []
  }
 ],
 "metadata": {
  "kernelspec": {
   "display_name": "base",
   "language": "python",
   "name": "python3"
  },
  "language_info": {
   "codemirror_mode": {
    "name": "ipython",
    "version": 3
   },
   "file_extension": ".py",
   "mimetype": "text/x-python",
   "name": "python",
   "nbconvert_exporter": "python",
   "pygments_lexer": "ipython3",
   "version": "3.11.4"
  }
 },
 "nbformat": 4,
 "nbformat_minor": 2
}
