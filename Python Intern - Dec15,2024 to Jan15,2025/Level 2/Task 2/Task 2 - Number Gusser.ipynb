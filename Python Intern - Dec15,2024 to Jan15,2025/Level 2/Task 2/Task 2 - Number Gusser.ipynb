{
 "cells": [
  {
   "cell_type": "code",
   "execution_count": null,
   "metadata": {},
   "outputs": [],
   "source": [
    "\"\"\"\n",
    "Create a number guessing game where the\n",
    "program generates a random number\n",
    "between a specified range, and the user tries\n",
    "to guess it. Provide feedback to the user if\n",
    "their guess is too high or too low.\n",
    "\"\"\""
   ]
  },
  {
   "cell_type": "code",
   "execution_count": null,
   "metadata": {},
   "outputs": [],
   "source": []
  }
 ],
 "metadata": {
  "kernelspec": {
   "display_name": "base",
   "language": "python",
   "name": "python3"
  },
  "language_info": {
   "name": "python",
   "version": "3.11.4"
  }
 },
 "nbformat": 4,
 "nbformat_minor": 2
}
