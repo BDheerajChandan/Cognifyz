{
 "cells": [
  {
   "cell_type": "code",
   "execution_count": null,
   "metadata": {},
   "outputs": [],
   "source": [
    "\"\"\"\n",
    "Create a number guessing game where the program generates a random number between a specified range, and \n",
    "the user tries to guess it. Provide feedback to the user if their guess is too high or too low.\n",
    "\"\"\""
   ]
  },
  {
   "cell_type": "code",
   "execution_count": 2,
   "metadata": {},
   "outputs": [
    {
     "name": "stdout",
     "output_type": "stream",
     "text": [
      "Enter the the number : User Input is 32\n",
      "PC generated number is 23\n",
      "Difference offset is 9\n",
      "Difference after Guess is  Too Low\n"
     ]
    }
   ],
   "source": [
    "from random import choice                                   # Importing Package for random choice\n",
    "import numpy as np                                          # Import packag for array operations\n",
    "print(\"Enter the the number : \",end=\"\")                     \n",
    "user_NumIn=int(input(\"Enter the the number : \"))            # Ask for a number input from a user between 1 to 100\n",
    "pc_genNum=choice(range(1,100))                              # PC generated number\n",
    "offset=np.abs(pc_genNum-user_NumIn)                         # To know offset between user and PC generated number\n",
    "print(f\"User Input is {user_NumIn}\\nPC generated number is {pc_genNum}\\nDifference offset is {offset}\")\n",
    "if(offset==0):\n",
    "    print(f\"User entered number and PC generated number are same \") # Display measge if offset is 0 . When guess is correct.\n",
    "elif(offset>1 and offset<=25):\n",
    "    hint=\"Too Low\"                                          # Hint is too low when guess offset is betwen 1 and 25\n",
    "elif(offset>25):\n",
    "    hint=\"Too High\"                                         # Hint is too high when guess offset is more than 25\n",
    "else:\n",
    "    pass\n",
    "print(\"Difference after Guess is \",hint)                    # Display the Hint based on the diference."
   ]
  }
 ],
 "metadata": {
  "kernelspec": {
   "display_name": "base",
   "language": "python",
   "name": "python3"
  },
  "language_info": {
   "codemirror_mode": {
    "name": "ipython",
    "version": 3
   },
   "file_extension": ".py",
   "mimetype": "text/x-python",
   "name": "python",
   "nbconvert_exporter": "python",
   "pygments_lexer": "ipython3",
   "version": "3.11.4"
  }
 },
 "nbformat": 4,
 "nbformat_minor": 2
}
