{
 "cells": [
  {
   "cell_type": "code",
   "execution_count": null,
   "metadata": {},
   "outputs": [],
   "source": [
    "\"\"\"\n",
    "Write a Python program that reads a text file and counts the occurrences of each word in the file. \n",
    "Display the results in alphabetical order along with their respective counts.\n",
    "\"\"\""
   ]
  },
  {
   "cell_type": "code",
   "execution_count": null,
   "metadata": {},
   "outputs": [],
   "source": [
    "import os                                       # Importing module to access folder information\n",
    "os.listdir()                                    # List all files and folder names in curret working folder"
   ]
  },
  {
   "cell_type": "code",
   "execution_count": 4,
   "metadata": {},
   "outputs": [],
   "source": [
    "with open(\"file.txt\",mode=\"w+\") as writer:          # Create and Open a new file in write mode \n",
    "    while(True):                                    \n",
    "        s=input()                                   # Enter the the string input \n",
    "        if(s==\"stop\"):                              # If he enters stop entering the data into the file\n",
    "            break\n",
    "        else:\n",
    "            writer.writelines(s+\"\\n\")               # Till then write the data to a file \n",
    "writer.close()                                      # Close the file reference\n"
   ]
  },
  {
   "cell_type": "code",
   "execution_count": 5,
   "metadata": {},
   "outputs": [
    {
     "name": "stdout",
     "output_type": "stream",
     "text": [
      "HI\n",
      "\n",
      "Im Dheeraj\n",
      "\n",
      "from sklm\n",
      "\n",
      "Deeraj\n",
      "\n",
      "From Kur\n",
      "\n",
      "kur sklm kur\n",
      "\n",
      "J\n",
      "\n",
      "Im\n",
      "\n"
     ]
    }
   ],
   "source": [
    "with open(\"file.txt\",mode=\"r+\") as reader:          # Open the file in read mode\n",
    "    for i in reader.readlines():                    # Read each line and display the content\n",
    "        print(i)\n",
    "reader.close()                                      # Close the reference"
   ]
  },
  {
   "cell_type": "code",
   "execution_count": 24,
   "metadata": {},
   "outputs": [
    {
     "data": {
      "text/plain": [
       "{'Deeraj': 1,\n",
       " 'Dheeraj': 1,\n",
       " 'From': 1,\n",
       " 'HI': 1,\n",
       " 'Im': 2,\n",
       " 'J': 1,\n",
       " 'Kur': 1,\n",
       " 'from': 1,\n",
       " 'kur': 2,\n",
       " 'sklm': 2}"
      ]
     },
     "execution_count": 24,
     "metadata": {},
     "output_type": "execute_result"
    }
   ],
   "source": [
    "words=list()\n",
    "with open(\"file.txt\",mode=\"r+\") as reader:\n",
    "    for i in reader.readlines():\n",
    "        i=i.replace(\"\\n\",\"\")\n",
    "        i=i.split()\n",
    "        words.extend(i)                     # Get all words from a file in a list \n",
    "reader.close()\n",
    "words.sort()\n",
    "cnt_word=dict()\n",
    "for i in words:\n",
    "    if i not in cnt_word.keys():\n",
    "        cnt_word.update({i:words.count(i)})     # Update the dictionary with number of repetation counts\n",
    "cnt_word"
   ]
  },
  {
   "cell_type": "code",
   "execution_count": null,
   "metadata": {},
   "outputs": [],
   "source": [
    "# Step 1: Writing user input to the file\n",
    "with open(\"file.txt\", mode=\"w+\") as writer:\n",
    "    while True:\n",
    "        s = input(\"Enter text (type 'stop' to finish): \")\n",
    "        if s == \"stop\":\n",
    "            break\n",
    "        else:\n",
    "            writer.writelines(s + \"\\n\")\n",
    "\n",
    "# Step 2: Reading words from the file and counting occurrences\n",
    "words = []\n",
    "with open(\"file.txt\", mode=\"r\") as reader:\n",
    "    for line in reader:\n",
    "        # Normalize the line: remove newline and split by spaces\n",
    "        line = line.strip()\n",
    "        words.extend(line.split())\n",
    "\n",
    "# Step 3: Using a dictionary to count word occurrences\n",
    "cnt_word = {}\n",
    "for word in words:\n",
    "    word = word.lower()  # Optional: make all words lowercase to handle case insensitivity\n",
    "    word = ''.join(char for char in word if char.isalnum())  # Optional: remove punctuation\n",
    "    cnt_word[word] = cnt_word.get(word, 0) + 1\n",
    "\n",
    "# Step 4: Display results in alphabetical order\n",
    "for word in sorted(cnt_word.keys()):\n",
    "    print(f\"{word}: {cnt_word[word]}\")\n"
   ]
  }
 ],
 "metadata": {
  "kernelspec": {
   "display_name": "base",
   "language": "python",
   "name": "python3"
  },
  "language_info": {
   "codemirror_mode": {
    "name": "ipython",
    "version": 3
   },
   "file_extension": ".py",
   "mimetype": "text/x-python",
   "name": "python",
   "nbconvert_exporter": "python",
   "pygments_lexer": "ipython3",
   "version": "3.11.4"
  }
 },
 "nbformat": 4,
 "nbformat_minor": 2
}
