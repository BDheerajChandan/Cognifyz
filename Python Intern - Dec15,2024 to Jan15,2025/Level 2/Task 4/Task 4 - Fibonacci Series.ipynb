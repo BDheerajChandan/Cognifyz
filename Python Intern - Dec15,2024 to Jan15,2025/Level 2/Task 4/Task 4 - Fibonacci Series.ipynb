{
 "cells": [
  {
   "cell_type": "code",
   "execution_count": null,
   "metadata": {},
   "outputs": [],
   "source": [
    "\"\"\"\n",
    "Write a Python function that generates the\n",
    "Fibonacci sequence up to a given number of\n",
    "terms. The function should take an integer\n",
    "input from the user and display the\n",
    "Fibonacci sequence up to that number of\n",
    "terms\n",
    "\"\"\""
   ]
  },
  {
   "cell_type": "code",
   "execution_count": null,
   "metadata": {},
   "outputs": [],
   "source": []
  }
 ],
 "metadata": {
  "kernelspec": {
   "display_name": "base",
   "language": "python",
   "name": "python3"
  },
  "language_info": {
   "name": "python",
   "version": "3.11.4"
  }
 },
 "nbformat": 4,
 "nbformat_minor": 2
}
