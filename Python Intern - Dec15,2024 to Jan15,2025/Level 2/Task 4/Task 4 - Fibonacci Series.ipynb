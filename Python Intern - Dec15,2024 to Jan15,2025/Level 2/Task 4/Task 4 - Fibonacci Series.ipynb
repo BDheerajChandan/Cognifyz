{
 "cells": [
  {
   "cell_type": "code",
   "execution_count": null,
   "metadata": {},
   "outputs": [],
   "source": [
    "\"\"\"\n",
    "Write a Python function that generates the Fibonacci sequence up to a given number of terms. \n",
    "The function should take an integer input from the user and display the Fibonacci sequence up to that number of terms\n",
    "\"\"\""
   ]
  },
  {
   "cell_type": "code",
   "execution_count": 26,
   "metadata": {},
   "outputs": [
    {
     "name": "stdout",
     "output_type": "stream",
     "text": [
      "Number of Fibonacci terms : 10\n",
      "1  :  0\n",
      "2  :  1\n",
      "3  :  1\n",
      "4  :  2\n",
      "5  :  3\n",
      "6  :  5\n",
      "7  :  8\n",
      "8  :  13\n",
      "9  :  21\n",
      "10  :  34\n"
     ]
    }
   ],
   "source": [
    "def fibo(n):                                    # Declare a function that takes input for range number\n",
    "    if n == 0:\n",
    "        return 0                                # Return 0 if range in 0\n",
    "    elif n == 1:    \n",
    "        return 1                                # Return 0 if range in 1\n",
    "    else:\n",
    "        return fibo(n - 1) + fibo(n - 2)        # Return fibonacc values for range n\n",
    "\n",
    "def inp(num):\n",
    "    return fibo(num)                            # Calling the functions which takes range and generates fbonacci range\n",
    "\n",
    "print(\"Number of Fibonacci terms : \",end=\"\")\n",
    "n=int(input(\"Number of Fibonacci terms : \"))\n",
    "print(n)\n",
    "for i in range(n):\n",
    "    print(i+1,\" : \",inp(i))                     # Display all the fibonacci ranges\n"
   ]
  },
  {
   "cell_type": "code",
   "execution_count": null,
   "metadata": {},
   "outputs": [],
   "source": []
  }
 ],
 "metadata": {
  "kernelspec": {
   "display_name": "base",
   "language": "python",
   "name": "python3"
  },
  "language_info": {
   "codemirror_mode": {
    "name": "ipython",
    "version": 3
   },
   "file_extension": ".py",
   "mimetype": "text/x-python",
   "name": "python",
   "nbconvert_exporter": "python",
   "pygments_lexer": "ipython3",
   "version": "3.11.4"
  }
 },
 "nbformat": 4,
 "nbformat_minor": 2
}
