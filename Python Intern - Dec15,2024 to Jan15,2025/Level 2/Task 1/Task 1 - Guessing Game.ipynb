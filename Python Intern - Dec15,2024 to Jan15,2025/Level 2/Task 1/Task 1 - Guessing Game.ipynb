{
 "cells": [
  {
   "cell_type": "code",
   "execution_count": null,
   "metadata": {},
   "outputs": [],
   "source": [
    "\"\"\"\n",
    "Write a Python program that generates a\n",
    "random number between 1 and 100. The\n",
    "user should then try to guess the number.\n",
    "The program should provide hints such as\n",
    "\"too high\" or \"too low\" until the correct\n",
    "number is guessed.\n",
    "\"\"\""
   ]
  },
  {
   "cell_type": "code",
   "execution_count": null,
   "metadata": {},
   "outputs": [],
   "source": []
  }
 ],
 "metadata": {
  "kernelspec": {
   "display_name": "base",
   "language": "python",
   "name": "python3"
  },
  "language_info": {
   "name": "python",
   "version": "3.11.4"
  }
 },
 "nbformat": 4,
 "nbformat_minor": 2
}
